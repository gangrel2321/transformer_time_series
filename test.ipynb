{
 "cells": [
  {
   "cell_type": "code",
   "execution_count": 219,
   "id": "0ecc5e4f-0752-49f4-b1e3-2ce1fa47519c",
   "metadata": {},
   "outputs": [],
   "source": [
    "\"\"\"\n",
    "Generates synthetic weather time series data for training and testing our model.\n",
    "\"\"\"\n",
    "\n",
    "import random\n",
    "import pandas as pd\n",
    "from tqdm import tqdm \n",
    "import numpy as np\n",
    "from enum import Enum\n",
    "from dateutil.relativedelta import relativedelta\n",
    "\n",
    "class Weather(Enum):\n",
    "    # Weather values ENUM\n",
    "    SUNNY = 1\n",
    "    RAINY = 2\n",
    "    CLOUDY = 3\n",
    "    SNOW = 4\n",
    "\n",
    "    @classmethod\n",
    "    def weatherProb(self, temp):\n",
    "        if temp < 35:\n",
    "            return [0.33,0,0.33,0.34]\n",
    "        if temp < 60:\n",
    "            return [0.3,0.4,0.3,0]\n",
    "        if temp < 80:\n",
    "            return [0.4, 0.2, 0.4, 0]\n",
    "        return [0.7, 0.05, 0.25, 0]\n",
    "                \n",
    "                \n",
    "class GenTemperature(object):\n",
    "    # Generate Temperature Data\n",
    "    def __init__(self, groups=1, days=10000, var = 5,):\n",
    "        self.groups = groups # time series groups\n",
    "        self.days = days\n",
    "        self.samples = self.groups*self.days\n",
    "        self.date_range = pd.date_range(start=\"1980-01-01\", periods=self.days, freq='D')\n",
    "        self.var = var\n",
    "\n",
    "    def generate(self):\n",
    "        # generate dates\n",
    "        df = pd.DataFrame(self.date_range, columns=[\"timestamp\"])\n",
    "        df = pd.concat([df]*self.groups, ignore_index=False)\n",
    "        df[\"index\"] = range(df.shape[0]) \n",
    "        df[\"group\"] = pd.cut(df['index'], bins=self.groups, labels=range(0,self.groups), include_lowest=True)\n",
    "        temp_df = df.groupby(\"group\")\n",
    "        df[\"t_index\"] = temp_df.cumcount() + 1\n",
    "        \n",
    "        # generate brownian motion \n",
    "        df[\"base\"] = self.__genBrownian(var=self.var)\n",
    "        print(\"final:\", self.date_range[-1])\n",
    "        print(\"og:\", self.date_range[0])\n",
    "        years = (self.date_range[-1] - self.date_range[0]) / np.timedelta64(1,'Y') \n",
    "        print(\"Years:\",years)\n",
    "        observ_per_year = self.days / years\n",
    "        print(\"Year IDX:\", observ_per_year)\n",
    "\n",
    "        year_noise = lambda x : np.random.uniform(int(x*self.samples+1)%observ_per_year / observ_per_year )\n",
    "        df[\"temperature\"] = df[\"base\"].apply(lambda x : \n",
    "                                     50 + 46*np.cos(2*np.pi * x / observ_per_year) + np.random.uniform(-7,7))\n",
    "        #shift = np.random.uniform(-14,10)\n",
    "        #scale = np.random.uniform(0.8,1.1)\n",
    "        #df[\"temperature\"] = df[\"temperature\"].apply(lambda x : scale*x + shift)\n",
    "                                                    \n",
    "        df[\"weather\"] = df[\"temperature\"].apply(lambda x: \n",
    "                                        np.random.choice([\"SUNNY\",\"RAINY\", \"CLOUDY\",\"SNOW\"],p=Weather.weatherProb(x) ) )\n",
    "        #df = df.drop(\"index\",axis=1).drop(\"base\",axis=1)\n",
    "        return df\n",
    "    \n",
    "                                                         \n",
    "    def __genBrownian(self,var=0.01):\n",
    "        steps = np.random.normal(loc=0.0, scale=np.sqrt(var),size=self.samples)\n",
    "        result = np.cumsum(steps)\n",
    "        return result + np.linspace(0,self.samples,self.samples)"
   ]
  },
  {
   "cell_type": "code",
   "execution_count": 243,
   "id": "14c80dc7-ab16-477e-9bfb-1a9159a3de98",
   "metadata": {},
   "outputs": [],
   "source": [
    "gt = GenTemperature(groups=2, days=365, var=18)"
   ]
  },
  {
   "cell_type": "code",
   "execution_count": 244,
   "id": "d751f779-ecba-4501-9f84-ff5b956502b0",
   "metadata": {},
   "outputs": [
    {
     "name": "stdout",
     "output_type": "stream",
     "text": [
      "final: 1980-01-03 00:00:00\n",
      "og: 1980-01-01 00:00:00\n",
      "Years: 0.005475814013977016\n",
      "Year IDX: 547.86375\n"
     ]
    }
   ],
   "source": [
    "df = gt.generate()"
   ]
  },
  {
   "cell_type": "code",
   "execution_count": 245,
   "id": "7712203c-0b79-4292-ac7f-e1d35daff8ff",
   "metadata": {},
   "outputs": [
    {
     "data": {
      "text/html": [
       "<div>\n",
       "<style scoped>\n",
       "    .dataframe tbody tr th:only-of-type {\n",
       "        vertical-align: middle;\n",
       "    }\n",
       "\n",
       "    .dataframe tbody tr th {\n",
       "        vertical-align: top;\n",
       "    }\n",
       "\n",
       "    .dataframe thead th {\n",
       "        text-align: right;\n",
       "    }\n",
       "</style>\n",
       "<table border=\"1\" class=\"dataframe\">\n",
       "  <thead>\n",
       "    <tr style=\"text-align: right;\">\n",
       "      <th></th>\n",
       "      <th>timestamp</th>\n",
       "      <th>index</th>\n",
       "      <th>group</th>\n",
       "      <th>t_index</th>\n",
       "      <th>base</th>\n",
       "      <th>temperature</th>\n",
       "      <th>weather</th>\n",
       "    </tr>\n",
       "  </thead>\n",
       "  <tbody>\n",
       "    <tr>\n",
       "      <th>0</th>\n",
       "      <td>1980-01-01</td>\n",
       "      <td>0</td>\n",
       "      <td>0</td>\n",
       "      <td>1</td>\n",
       "      <td>-2.352827</td>\n",
       "      <td>100.183434</td>\n",
       "      <td>RAINY</td>\n",
       "    </tr>\n",
       "    <tr>\n",
       "      <th>1</th>\n",
       "      <td>1980-01-02</td>\n",
       "      <td>1</td>\n",
       "      <td>0</td>\n",
       "      <td>2</td>\n",
       "      <td>-1.279186</td>\n",
       "      <td>95.028300</td>\n",
       "      <td>RAINY</td>\n",
       "    </tr>\n",
       "    <tr>\n",
       "      <th>2</th>\n",
       "      <td>1980-01-03</td>\n",
       "      <td>2</td>\n",
       "      <td>0</td>\n",
       "      <td>3</td>\n",
       "      <td>0.748862</td>\n",
       "      <td>101.987204</td>\n",
       "      <td>SUNNY</td>\n",
       "    </tr>\n",
       "    <tr>\n",
       "      <th>0</th>\n",
       "      <td>1980-01-01</td>\n",
       "      <td>3</td>\n",
       "      <td>1</td>\n",
       "      <td>1</td>\n",
       "      <td>0.286675</td>\n",
       "      <td>98.124441</td>\n",
       "      <td>SUNNY</td>\n",
       "    </tr>\n",
       "    <tr>\n",
       "      <th>1</th>\n",
       "      <td>1980-01-02</td>\n",
       "      <td>4</td>\n",
       "      <td>1</td>\n",
       "      <td>2</td>\n",
       "      <td>6.588286</td>\n",
       "      <td>101.762485</td>\n",
       "      <td>CLOUDY</td>\n",
       "    </tr>\n",
       "    <tr>\n",
       "      <th>2</th>\n",
       "      <td>1980-01-03</td>\n",
       "      <td>5</td>\n",
       "      <td>1</td>\n",
       "      <td>3</td>\n",
       "      <td>1.436408</td>\n",
       "      <td>93.249621</td>\n",
       "      <td>RAINY</td>\n",
       "    </tr>\n",
       "  </tbody>\n",
       "</table>\n",
       "</div>"
      ],
      "text/plain": [
       "   timestamp  index group  t_index      base  temperature weather\n",
       "0 1980-01-01      0     0        1 -2.352827   100.183434   RAINY\n",
       "1 1980-01-02      1     0        2 -1.279186    95.028300   RAINY\n",
       "2 1980-01-03      2     0        3  0.748862   101.987204   SUNNY\n",
       "0 1980-01-01      3     1        1  0.286675    98.124441   SUNNY\n",
       "1 1980-01-02      4     1        2  6.588286   101.762485  CLOUDY\n",
       "2 1980-01-03      5     1        3  1.436408    93.249621   RAINY"
      ]
     },
     "execution_count": 245,
     "metadata": {},
     "output_type": "execute_result"
    }
   ],
   "source": [
    "df.head(10)"
   ]
  },
  {
   "cell_type": "code",
   "execution_count": 242,
   "id": "7baae6ec-5c1d-408d-89a4-fde72c79514b",
   "metadata": {},
   "outputs": [
    {
     "data": {
      "image/png": "[encoded data removed]",
      "text/plain": [
       "<Figure size 432x288 with 1 Axes>"
      ]
     },
     "metadata": {
      "needs_background": "light"
     },
     "output_type": "display_data"
    }
   ],
   "source": [
    "import matplotlib.pyplot as plt\n",
    "plt.plot(df[df['group']==0].index.values,df[df['group'] == 0][\"temperature\"])\n",
    "plt.show()"
   ]
  },
  {
   "cell_type": "code",
   "execution_count": null,
   "id": "a8c86a89-27c3-469b-9d13-131fb7ae8af1",
   "metadata": {},
   "outputs": [],
   "source": []
  },
  {
   "cell_type": "code",
   "execution_count": null,
   "id": "9d69a4ca-aa8c-4a9c-91b6-38bc54b052a8",
   "metadata": {},
   "outputs": [],
   "source": []
  }
 ],
 "metadata": {
  "kernelspec": {
   "display_name": "Python 3",
   "language": "python",
   "name": "python3"
  },
  "language_info": {
   "codemirror_mode": {
    "name": "ipython",
    "version": 3
   },
   "file_extension": ".py",
   "mimetype": "text/x-python",
   "name": "python",
   "nbconvert_exporter": "python",
   "pygments_lexer": "ipython3",
   "version": "3.8.18"
  }
 },
 "nbformat": 4,
 "nbformat_minor": 5
}
